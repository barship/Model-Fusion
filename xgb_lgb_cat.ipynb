{
 "cells": [
  {
   "cell_type": "code",
   "execution_count": 1,
   "metadata": {},
   "outputs": [],
   "source": [
    "import pandas as pd\n",
    "from copy import deepcopy\n",
    "\n",
    "path = ''\n",
    "\n",
    "#NO_1 = pd.read_csv(path + 'xgb_submit.csv')\n",
    "NO_1 = pd.read_csv(path + 'cat_submit21_Attribute10.csv')\n",
    "NO_2 = pd.read_csv(path + 'xgb_submit21_Attribute10.csv')\n",
    "NO_3 = pd.read_csv(path + 'lgb_submit21_Attribute10.csv')\n",
    "\n",
    "labels = ['Excellent ratio', 'Good ratio', 'Pass ratio', 'Fail ratio']\n",
    "ID = deepcopy(NO_1['Group'])"
   ]
  },
  {
   "cell_type": "code",
   "execution_count": 2,
   "metadata": {},
   "outputs": [],
   "source": [
    "result = [[],[],[],[]]\n",
    "k = 0\n",
    "\n",
    "for i in labels:\n",
    "    for j in range(len(ID)):\n",
    "        #temp = NO_1[i][j] * 0.01 + NO_2[i][j] * 0.99 \n",
    "        #temp = (NO_1[i][j] * NO_2[i][j]) ** 0.5\n",
    "        #temp = pow((NO_1[i][j] * NO_2[i][j] * NO_3[i][j]),1/3)\n",
    "        temp = pow(NO_1[i][j],5/6) * pow(NO_2[i][j],1/8) * pow(NO_3[i][j],1/24)\n",
    "        #temp = pow(NO_1[i][j],7/8) * pow(NO_2[i][j],3/32) * pow(NO_3[i][j],1/32)\n",
    "        #temp = pow(NO_1[i][j],9/10) * pow(NO_2[i][j],3/40) * pow(NO_3[i][j],1/40)\n",
    "        #temp = pow(NO_1[i][j],11/12) * pow(NO_2[i][j],1/16) * pow(NO_3[i][j],1/48)\n",
    "        #temp = pow(NO_1[i][j],10/11) * pow(NO_2[i][j],3/44) * pow(NO_3[i][j],1/44)\n",
    "        result[k].append(temp)\n",
    "    k = k + 1\n",
    "\n",
    "test = pd.DataFrame({'Group': ID, 'Excellent ratio': result[0], 'Good ratio': result[1], 'Pass ratio': result[2], 'Fail ratio': result[3]})\n",
    "order = ['Group', 'Excellent ratio', 'Good ratio', 'Pass ratio', 'Fail ratio']\n",
    "test = test[order]\n",
    "test.to_csv('new1.csv', index=False)"
   ]
  },
  {
   "cell_type": "code",
   "execution_count": null,
   "metadata": {},
   "outputs": [],
   "source": []
  }
 ],
 "metadata": {
  "kernelspec": {
   "display_name": "Python [default]",
   "language": "python",
   "name": "python3"
  },
  "language_info": {
   "codemirror_mode": {
    "name": "ipython",
    "version": 3
   },
   "file_extension": ".py",
   "mimetype": "text/x-python",
   "name": "python",
   "nbconvert_exporter": "python",
   "pygments_lexer": "ipython3",
   "version": "3.5.6"
  }
 },
 "nbformat": 4,
 "nbformat_minor": 2
}
